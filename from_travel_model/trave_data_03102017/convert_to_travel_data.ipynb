{
 "cells": [
  {
   "cell_type": "code",
   "execution_count": 1,
   "metadata": {
    "collapsed": true
   },
   "outputs": [],
   "source": [
    "import pandas as pd"
   ]
  },
  {
   "cell_type": "code",
   "execution_count": 2,
   "metadata": {
    "collapsed": false
   },
   "outputs": [],
   "source": [
    "df= pd.read_csv(\"IN15_Logsum.txt\",header=None,index_col=[0,1])"
   ]
  },
  {
   "cell_type": "code",
   "execution_count": 3,
   "metadata": {
    "collapsed": true
   },
   "outputs": [],
   "source": [
    "df.index.names = ['from_zone_id','to_zone_id']"
   ]
  },
  {
   "cell_type": "code",
   "execution_count": 6,
   "metadata": {
    "collapsed": false
   },
   "outputs": [
    {
     "data": {
      "text/html": [
       "<div>\n",
       "<table border=\"1\" class=\"dataframe\">\n",
       "  <thead>\n",
       "    <tr style=\"text-align: right;\">\n",
       "      <th></th>\n",
       "      <th></th>\n",
       "      <th>am_auto_total_time</th>\n",
       "      <th>am_transit_total_time</th>\n",
       "      <th>am_work_highinc_logsum</th>\n",
       "      <th>am_work_lowinc_logsum</th>\n",
       "      <th>midday_auto_total_time</th>\n",
       "      <th>midday_transit_total_time</th>\n",
       "      <th>midday_other_logsum</th>\n",
       "    </tr>\n",
       "    <tr>\n",
       "      <th>from_zone_id</th>\n",
       "      <th>to_zone_id</th>\n",
       "      <th></th>\n",
       "      <th></th>\n",
       "      <th></th>\n",
       "      <th></th>\n",
       "      <th></th>\n",
       "      <th></th>\n",
       "      <th></th>\n",
       "    </tr>\n",
       "  </thead>\n",
       "  <tbody>\n",
       "    <tr>\n",
       "      <th rowspan=\"5\" valign=\"top\">1</th>\n",
       "      <th>1</th>\n",
       "      <td>6.41</td>\n",
       "      <td>NaN</td>\n",
       "      <td>-0.23</td>\n",
       "      <td>0.30</td>\n",
       "      <td>6.37</td>\n",
       "      <td>NaN</td>\n",
       "      <td>0.51</td>\n",
       "    </tr>\n",
       "    <tr>\n",
       "      <th>2</th>\n",
       "      <td>7.25</td>\n",
       "      <td>22.64</td>\n",
       "      <td>-0.23</td>\n",
       "      <td>0.53</td>\n",
       "      <td>7.25</td>\n",
       "      <td>25.16</td>\n",
       "      <td>0.51</td>\n",
       "    </tr>\n",
       "    <tr>\n",
       "      <th>3</th>\n",
       "      <td>7.66</td>\n",
       "      <td>29.48</td>\n",
       "      <td>-0.25</td>\n",
       "      <td>0.42</td>\n",
       "      <td>7.51</td>\n",
       "      <td>29.48</td>\n",
       "      <td>0.50</td>\n",
       "    </tr>\n",
       "    <tr>\n",
       "      <th>4</th>\n",
       "      <td>8.29</td>\n",
       "      <td>32.62</td>\n",
       "      <td>-0.27</td>\n",
       "      <td>0.38</td>\n",
       "      <td>8.15</td>\n",
       "      <td>32.62</td>\n",
       "      <td>0.49</td>\n",
       "    </tr>\n",
       "    <tr>\n",
       "      <th>5</th>\n",
       "      <td>8.73</td>\n",
       "      <td>44.78</td>\n",
       "      <td>-0.28</td>\n",
       "      <td>0.35</td>\n",
       "      <td>8.58</td>\n",
       "      <td>42.98</td>\n",
       "      <td>0.48</td>\n",
       "    </tr>\n",
       "  </tbody>\n",
       "</table>\n",
       "</div>"
      ],
      "text/plain": [
       "                         am_auto_total_time  am_transit_total_time  \\\n",
       "from_zone_id to_zone_id                                              \n",
       "1            1                         6.41                    NaN   \n",
       "             2                         7.25                  22.64   \n",
       "             3                         7.66                  29.48   \n",
       "             4                         8.29                  32.62   \n",
       "             5                         8.73                  44.78   \n",
       "\n",
       "                         am_work_highinc_logsum  am_work_lowinc_logsum  \\\n",
       "from_zone_id to_zone_id                                                  \n",
       "1            1                            -0.23                   0.30   \n",
       "             2                            -0.23                   0.53   \n",
       "             3                            -0.25                   0.42   \n",
       "             4                            -0.27                   0.38   \n",
       "             5                            -0.28                   0.35   \n",
       "\n",
       "                         midday_auto_total_time  midday_transit_total_time  \\\n",
       "from_zone_id to_zone_id                                                      \n",
       "1            1                             6.37                        NaN   \n",
       "             2                             7.25                      25.16   \n",
       "             3                             7.51                      29.48   \n",
       "             4                             8.15                      32.62   \n",
       "             5                             8.58                      42.98   \n",
       "\n",
       "                         midday_other_logsum  \n",
       "from_zone_id to_zone_id                       \n",
       "1            1                          0.51  \n",
       "             2                          0.51  \n",
       "             3                          0.50  \n",
       "             4                          0.49  \n",
       "             5                          0.48  "
      ]
     },
     "execution_count": 6,
     "metadata": {},
     "output_type": "execute_result"
    }
   ],
   "source": [
    "df.head()"
   ]
  },
  {
   "cell_type": "code",
   "execution_count": 5,
   "metadata": {
    "collapsed": false
   },
   "outputs": [],
   "source": [
    "df.columns = ['am_auto_total_time','am_transit_total_time','am_work_highinc_logsum','am_work_lowinc_logsum',\n",
    "             'midday_auto_total_time','midday_transit_total_time','midday_other_logsum']"
   ]
  },
  {
   "cell_type": "code",
   "execution_count": 7,
   "metadata": {
    "collapsed": false
   },
   "outputs": [
    {
     "data": {
      "text/plain": [
       "(456150, 7)"
      ]
     },
     "execution_count": 7,
     "metadata": {},
     "output_type": "execute_result"
    }
   ],
   "source": [
    "df[df.am_work_highinc_logsum.isnull()].shape"
   ]
  },
  {
   "cell_type": "code",
   "execution_count": 14,
   "metadata": {
    "collapsed": false
   },
   "outputs": [
    {
     "name": "stdout",
     "output_type": "stream",
     "text": [
      "from_zone_id 0\n",
      "to_zone_id 0\n",
      "am_auto_total_time 0\n",
      "am_transit_total_time 6041972\n",
      "am_work_highinc_logsum 0\n",
      "am_work_lowinc_logsum 0\n",
      "midday_auto_total_time 0\n",
      "midday_transit_total_time 6389246\n",
      "midday_other_logsum 0\n"
     ]
    }
   ],
   "source": [
    "for col in df2.columns:\n",
    "    print col, df2[df2[col].isnull()].shape[0]"
   ]
  },
  {
   "cell_type": "code",
   "execution_count": 10,
   "metadata": {
    "collapsed": true
   },
   "outputs": [],
   "source": [
    "df.reset_index(inplace=True)"
   ]
  },
  {
   "cell_type": "code",
   "execution_count": 13,
   "metadata": {
    "collapsed": false
   },
   "outputs": [],
   "source": [
    "#remove all external zones \n",
    "df2 = df.loc[ (df.from_zone_id<=2811) &(df.to_zone_id<=2811),: ]"
   ]
  },
  {
   "cell_type": "code",
   "execution_count": 17,
   "metadata": {
    "collapsed": false
   },
   "outputs": [],
   "source": [
    "df2.set_index( ['from_zone_id','to_zone_id'],inplace=True)"
   ]
  },
  {
   "cell_type": "code",
   "execution_count": null,
   "metadata": {
    "collapsed": true
   },
   "outputs": [],
   "source": [
    "df2.to_csv('travel_data_03102017.csv')"
   ]
  },
  {
   "cell_type": "code",
   "execution_count": null,
   "metadata": {
    "collapsed": true
   },
   "outputs": [],
   "source": []
  }
 ],
 "metadata": {
  "kernelspec": {
   "display_name": "Python 2",
   "language": "python",
   "name": "python2"
  },
  "language_info": {
   "codemirror_mode": {
    "name": "ipython",
    "version": 2
   },
   "file_extension": ".py",
   "mimetype": "text/x-python",
   "name": "python",
   "nbconvert_exporter": "python",
   "pygments_lexer": "ipython2",
   "version": "2.7.11"
  }
 },
 "nbformat": 4,
 "nbformat_minor": 0
}
